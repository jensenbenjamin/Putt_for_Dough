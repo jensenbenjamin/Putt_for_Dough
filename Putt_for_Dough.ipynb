{
 "cells": [
  {
   "cell_type": "markdown",
   "metadata": {},
   "source": [
    "# Drive for Show; Putt for Dough"
   ]
  },
  {
   "cell_type": "markdown",
   "metadata": {},
   "source": [
    "Below is the code where I aim to determine whether driving or putting ability is more important for professional golfers who's aim is to make the most money. The general premise is to create a machine learning regression model to predict per event earnings and then rank feature importance. The data comes from ESPN and reflects the earnings, outcomes, and playing statistics of the top 200 earners on the PGA tour in 2022."
   ]
  },
  {
   "cell_type": "markdown",
   "metadata": {},
   "source": [
    "## Import Libraries and Load Data"
   ]
  },
  {
   "cell_type": "code",
   "execution_count": 53,
   "metadata": {},
   "outputs": [],
   "source": [
    "import numpy as np\n",
    "import pandas as pd\n",
    "import sklearn\n",
    "import matplotlib.pylab as plt\n",
    "import xgboost as xg\n",
    "from xgboost.sklearn import XGBRegressor\n",
    "from sklearn import metrics\n",
    "from sklearn.model_selection import train_test_split"
   ]
  },
  {
   "cell_type": "code",
   "execution_count": 54,
   "metadata": {},
   "outputs": [],
   "source": [
    "df = pd.read_csv('C:\\\\Users\\jense\\PGA_Earnings_and_Player_Stats_2022.csv')\n",
    "df = df.drop(df.columns[-1],axis=1)\n",
    "df = df.dropna()"
   ]
  },
  {
   "cell_type": "markdown",
   "metadata": {},
   "source": [
    "### EDA"
   ]
  },
  {
   "cell_type": "code",
   "execution_count": 55,
   "metadata": {},
   "outputs": [
    {
     "data": {
      "text/plain": [
       "count       200.000000\n",
       "mean      87799.921100\n",
       "std       97377.659397\n",
       "min        8431.480000\n",
       "25%       29670.155000\n",
       "50%       52589.805000\n",
       "75%      102830.462500\n",
       "max      561876.400000\n",
       "Name: EarnPerEvent, dtype: float64"
      ]
     },
     "execution_count": 55,
     "metadata": {},
     "output_type": "execute_result"
    }
   ],
   "source": [
    "df['EarnPerEvent'].describe()"
   ]
  },
  {
   "cell_type": "code",
   "execution_count": 56,
   "metadata": {},
   "outputs": [
    {
     "data": {
      "image/png": "[encoded data removed]",
      "text/plain": [
       "<Figure size 576x432 with 1 Axes>"
      ]
     },
     "metadata": {
      "needs_background": "light"
     },
     "output_type": "display_data"
    }
   ],
   "source": [
    "plt.figure(figsize = (8,6))\n",
    "plt.boxplot(df['EarnPerEvent'])\n",
    "plt.xlabel('PGA Top 200 Earners of 2022')\n",
    "plt.ylabel('Earnings Per Event')\n",
    "plt.title('Earnings Per Event Box and Whisker Plot')\n",
    "plt.show()"
   ]
  },
  {
   "cell_type": "code",
   "execution_count": 67,
   "metadata": {},
   "outputs": [
    {
     "name": "stdout",
     "output_type": "stream",
     "text": [
      "                    RK  EarnPerEvent       CUP     EVNTS      RNDS      CUTS  \\\n",
      "RK            1.000000     -0.752401 -0.328413 -0.167903 -0.444721 -0.708358   \n",
      "EarnPerEvent -0.752401      1.000000  0.042673 -0.178108  0.079119  0.372389   \n",
      "CUP          -0.328413      0.042673  1.000000  0.148966  0.205882  0.250647   \n",
      "EVNTS        -0.167903     -0.178108  0.148966  1.000000  0.870957  0.593747   \n",
      "RNDS         -0.444721      0.079119  0.205882  0.870957  1.000000  0.809747   \n",
      "CUTS         -0.708358      0.372389  0.250647  0.593747  0.809747  1.000000   \n",
      "TOP10        -0.828028      0.846588  0.104225  0.068042  0.288720  0.538605   \n",
      "WINS         -0.510188      0.800206 -0.143700 -0.066542  0.068496  0.246713   \n",
      "SCORE        -0.289554      0.054928  0.138802  0.621580  0.839851  0.520506   \n",
      "DDIS         -0.340184      0.111879  0.147151  0.606702  0.840168  0.545788   \n",
      "DACC         -0.312306      0.066709  0.139923  0.594797  0.824514  0.546170   \n",
      "GIR          -0.347982      0.121924  0.147269  0.614023  0.852106  0.571364   \n",
      "PUTTS        -0.294274      0.056397  0.137796  0.625689  0.844292  0.528100   \n",
      "SAND         -0.397971      0.184235  0.161652  0.507760  0.771242  0.560820   \n",
      "BIRDS        -0.423162      0.238719  0.144734  0.550433  0.819658  0.590739   \n",
      "\n",
      "                 TOP10      WINS     SCORE      DDIS      DACC       GIR  \\\n",
      "RK           -0.828028 -0.510188 -0.289554 -0.340184 -0.312306 -0.347982   \n",
      "EarnPerEvent  0.846588  0.800206  0.054928  0.111879  0.066709  0.121924   \n",
      "CUP           0.104225 -0.143700  0.138802  0.147151  0.139923  0.147269   \n",
      "EVNTS         0.068042 -0.066542  0.621580  0.606702  0.594797  0.614023   \n",
      "RNDS          0.288720  0.068496  0.839851  0.840168  0.824514  0.852106   \n",
      "CUTS          0.538605  0.246713  0.520506  0.545788  0.546170  0.571364   \n",
      "TOP10         1.000000  0.612259  0.180719  0.237878  0.190694  0.250299   \n",
      "WINS          0.612259  1.000000  0.044191  0.085658  0.046596  0.097874   \n",
      "SCORE         0.180719  0.044191  1.000000  0.994296  0.959718  0.990768   \n",
      "DDIS          0.237878  0.085658  0.994296  1.000000  0.940416  0.990373   \n",
      "DACC          0.190694  0.046596  0.959718  0.940416  1.000000  0.964893   \n",
      "GIR           0.250299  0.097874  0.990768  0.990373  0.964893  1.000000   \n",
      "PUTTS         0.185928  0.043796  0.999247  0.993989  0.962474  0.992817   \n",
      "SAND          0.287797  0.138219  0.915698  0.913910  0.892958  0.914203   \n",
      "BIRDS         0.345528  0.195175  0.964144  0.974345  0.924483  0.973091   \n",
      "\n",
      "                 PUTTS      SAND     BIRDS  \n",
      "RK           -0.294274 -0.397971 -0.423162  \n",
      "EarnPerEvent  0.056397  0.184235  0.238719  \n",
      "CUP           0.137796  0.161652  0.144734  \n",
      "EVNTS         0.625689  0.507760  0.550433  \n",
      "RNDS          0.844292  0.771242  0.819658  \n",
      "CUTS          0.528100  0.560820  0.590739  \n",
      "TOP10         0.185928  0.287797  0.345528  \n",
      "WINS          0.043796  0.138219  0.195175  \n",
      "SCORE         0.999247  0.915698  0.964144  \n",
      "DDIS          0.993989  0.913910  0.974345  \n",
      "DACC          0.962474  0.892958  0.924483  \n",
      "GIR           0.992817  0.914203  0.973091  \n",
      "PUTTS         1.000000  0.916728  0.960568  \n",
      "SAND          0.916728  1.000000  0.905689  \n",
      "BIRDS         0.960568  0.905689  1.000000  \n"
     ]
    }
   ],
   "source": [
    "print(df.corr())"
   ]
  },
  {
   "cell_type": "markdown",
   "metadata": {},
   "source": [
    "## Train Test Split"
   ]
  },
  {
   "cell_type": "code",
   "execution_count": 57,
   "metadata": {},
   "outputs": [
    {
     "name": "stderr",
     "output_type": "stream",
     "text": [
      "\n",
      "A value is trying to be set on a copy of a slice from a DataFrame.\n",
      "Try using .loc[row_indexer,col_indexer] = value instead\n",
      "\n",
      "See the caveats in the documentation: https://pandas.pydata.org/pandas-docs/stable/user_guide/indexing.html#returning-a-view-versus-a-copy\n"
     ]
    }
   ],
   "source": [
    "#Define target variable and features\n",
    "target = ['EarnPerEvent']\n",
    "\n",
    "features = ['DDIS',\n",
    "           'DACC',\n",
    "           'GIR',\n",
    "           'PUTTS',\n",
    "           'SAND',\n",
    "           'BIRDS',\n",
    "           'WINS',\n",
    "           'TOP10',\n",
    "           'CUTS'\n",
    "           ]\n",
    "\n",
    "df_reduced = df[features + target]\n",
    "\n",
    "#Initiate a qcut using q=4 to divide the data into quartiles based on the dependant variable for a stratified train test split\n",
    "df_reduced['qcut'] = list(pd.qcut(df_reduced['EarnPerEvent'], 4, labels = False))\n",
    "\n",
    "training_data, testing_data = train_test_split(df_reduced, test_size = .2, random_state = 42, stratify = df_reduced['qcut'])\n",
    "\n",
    "X_train = training_data[features]\n",
    "y_train = training_data[target]\n",
    "X_test = testing_data[features]\n",
    "y_test = testing_data[target]\n"
   ]
  },
  {
   "cell_type": "markdown",
   "metadata": {},
   "source": [
    "## Model Creation"
   ]
  },
  {
   "cell_type": "markdown",
   "metadata": {},
   "source": [
    "### Untuned Model"
   ]
  },
  {
   "cell_type": "code",
   "execution_count": 59,
   "metadata": {},
   "outputs": [
    {
     "name": "stdout",
     "output_type": "stream",
     "text": [
      "Mean squared error on test set is:  3222627145.0248227\n",
      "R squared score on test set is:  0.6887608434100394\n"
     ]
    },
    {
     "name": "stderr",
     "output_type": "stream",
     "text": [
      "pandas.Int64Index is deprecated and will be removed from pandas in a future version. Use pandas.Index with the appropriate dtype instead.\n"
     ]
    }
   ],
   "source": [
    "xg_regressor =xg.XGBRegressor()\n",
    "xg_model = xg_regressor.fit(X_train,y_train)\n",
    "\n",
    "y_pred = xg_model.predict(X_test)\n",
    "\n",
    "from sklearn.metrics import mean_squared_error\n",
    "mse = mean_squared_error(y_test, y_pred)\n",
    "print(\"Mean squared error on test set is: \", mse)\n",
    "\n",
    "from sklearn.metrics import r2_score\n",
    "r2 = r2_score(y_test, y_pred)\n",
    "print(\"R squared score on test set is: \", r2)\n"
   ]
  },
  {
   "cell_type": "markdown",
   "metadata": {},
   "source": [
    "### Hyperparameter Tuning w Grid Search"
   ]
  },
  {
   "cell_type": "code",
   "execution_count": 60,
   "metadata": {},
   "outputs": [],
   "source": [
    "from sklearn.model_selection import GridSearchCV\n",
    "params = {'eta': [0.2],\n",
    "          'max_depth': [10,20,100],\n",
    "          'reg_lambda': [1.3,1.4,1.5,1.6,1.7],\n",
    "          'n_estimators': [100,200,500],\n",
    "          }\n",
    "reg = GridSearchCV(estimator = xg_regressor,\n",
    "                  param_grid = params,\n",
    "                  scoring = 'r2',\n",
    "                  verbose = 0)\n",
    "reg.fit(X_train,y_train)\n",
    "print(\"Best parameters: \", reg.best_params_)\n",
    "print(\"Best R2: \", reg.best_score_)"
   ]
  },
  {
   "cell_type": "markdown",
   "metadata": {},
   "source": [
    "### Tuned Model"
   ]
  },
  {
   "cell_type": "code",
   "execution_count": 61,
   "metadata": {},
   "outputs": [
    {
     "name": "stderr",
     "output_type": "stream",
     "text": [
      "pandas.Int64Index is deprecated and will be removed from pandas in a future version. Use pandas.Index with the appropriate dtype instead.\n"
     ]
    },
    {
     "name": "stdout",
     "output_type": "stream",
     "text": [
      "Mean squared error on test set is:  2321677595.292609\n",
      "R squared score on test set is:  0.7757739433963858\n"
     ]
    }
   ],
   "source": [
    "#Manually input best params into the regressor\n",
    "xg_regressor_tuned =xg.XGBRegressor(n_estimators = 500, max_depth = 20, eta = 0.2, reg_lambda = 1.4)\n",
    "xg_model_tuned = xg_regressor_tuned.fit(X_train,y_train)\n",
    "\n",
    "y_pred_tuned = xg_model_tuned.predict(X_test)\n",
    "\n",
    "from sklearn.metrics import mean_squared_error\n",
    "mse = mean_squared_error(y_test, y_pred_tuned)\n",
    "print(\"Mean squared error on test set is: \", mse)\n",
    "\n",
    "from sklearn.metrics import r2_score\n",
    "r2 = r2_score(y_test, y_pred_tuned)\n",
    "print(\"R squared score on test set is: \", r2)"
   ]
  },
  {
   "cell_type": "code",
   "execution_count": 62,
   "metadata": {},
   "outputs": [],
   "source": [
    "# Uncomment if shap library is not installed\n",
    "# pip install shap"
   ]
  },
  {
   "cell_type": "markdown",
   "metadata": {},
   "source": [
    "## Feature Importance"
   ]
  },
  {
   "cell_type": "markdown",
   "metadata": {},
   "source": [
    "## Shap Values"
   ]
  },
  {
   "cell_type": "code",
   "execution_count": 63,
   "metadata": {},
   "outputs": [
    {
     "name": "stderr",
     "output_type": "stream",
     "text": [
      "pandas.Int64Index is deprecated and will be removed from pandas in a future version. Use pandas.Index with the appropriate dtype instead.\n"
     ]
    },
    {
     "data": {
      "image/png": "[encoded data removed]",
      "text/plain": [
       "<Figure size 576x432 with 1 Axes>"
      ]
     },
     "metadata": {},
     "output_type": "display_data"
    }
   ],
   "source": [
    "import shap\n",
    "explainer = shap.Explainer(xg_model_tuned.predict,X_test)\n",
    "shap_values = explainer(X_test)\n",
    "shap.plots.bar(shap_values, max_display = 10)"
   ]
  },
  {
   "cell_type": "code",
   "execution_count": 64,
   "metadata": {},
   "outputs": [
    {
     "data": {
      "image/png": "[encoded data removed]",
      "text/plain": [
       "<Figure size 576x367.2 with 2 Axes>"
      ]
     },
     "metadata": {
      "needs_background": "light"
     },
     "output_type": "display_data"
    }
   ],
   "source": [
    "shap.plots.beeswarm(shap_values, max_display = 10)"
   ]
  },
  {
   "cell_type": "markdown",
   "metadata": {},
   "source": [
    "## Gini Impurity"
   ]
  },
  {
   "cell_type": "code",
   "execution_count": 65,
   "metadata": {},
   "outputs": [
    {
     "name": "stdout",
     "output_type": "stream",
     "text": [
      "Ranked features based on Gini:  ['TOP10', 'WINS', 'BIRDS', 'PUTTS', 'CUTS', 'DACC', 'GIR', 'SAND', 'DDIS']\n",
      "Feature Importance based on Gini:  {'DDIS': 0.0022308836, 'DACC': 0.0071968306, 'GIR': 0.0048345593, 'PUTTS': 0.011066812, 'SAND': 0.003900229, 'BIRDS': 0.0600625, 'WINS': 0.24036334, 'TOP10': 0.6627267, 'CUTS': 0.007618177}\n"
     ]
    }
   ],
   "source": [
    "importance_scores = xg_model_tuned.feature_importances_\n",
    "feature_importance = dict(zip(X_train.columns,importance_scores))\n",
    "ranked_features = sorted(feature_importance,key = feature_importance.get, reverse = True)\n",
    "print(\"Ranked features based on Gini: \", ranked_features)\n",
    "print(\"Feature Importance based on Gini: \",feature_importance)"
   ]
  }
 ],
 "metadata": {
  "kernelspec": {
   "display_name": "Python 3",
   "language": "python",
   "name": "python3"
  },
  "language_info": {
   "codemirror_mode": {
    "name": "ipython",
    "version": 3
   },
   "file_extension": ".py",
   "mimetype": "text/x-python",
   "name": "python",
   "nbconvert_exporter": "python",
   "pygments_lexer": "ipython3",
   "version": "3.8.5"
  }
 },
 "nbformat": 4,
 "nbformat_minor": 4
}
